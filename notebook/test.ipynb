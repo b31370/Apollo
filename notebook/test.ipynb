{
 "cells": [
  {
   "cell_type": "code",
   "execution_count": 4,
   "id": "a8619d37",
   "metadata": {},
   "outputs": [
    {
     "name": "stdout",
     "output_type": "stream",
     "text": [
      "3 Trace(s) in Stream:\n",
      "XA.S12.01.MHZ | 1976-08-06T00:00:00.050904Z - 1976-08-06T02:50:59.824489Z | 6.6 Hz, 67972 samples\n",
      "XA.S15.01.MHZ | 1976-08-06T00:00:00.124180Z - 1976-08-06T02:50:59.897765Z | 6.6 Hz, 67972 samples\n",
      "XA.S16.01.MHZ | 1976-08-06T00:00:00.076198Z - 1976-08-06T02:50:59.849783Z | 6.6 Hz, 67972 samples\n",
      "         network: XA\n",
      "         station: S12\n",
      "        location: 01\n",
      "         channel: MHZ\n",
      "       starttime: 1976-08-06T00:00:00.050904Z\n",
      "         endtime: 1976-08-06T02:50:59.824489Z\n",
      "   sampling_rate: 6.625\n",
      "           delta: 0.1509433962264151\n",
      "            npts: 67972\n",
      "           calib: 1.0\n",
      "         _format: MSEED\n",
      "           mseed: AttribDict({'dataquality': 'M', 'number_of_records': 11, 'encoding': 'STEIM2', 'byteorder': '>', 'record_length': 4096, 'filesize': 135168})\n"
     ]
    }
   ],
   "source": [
    "from obspy import read\n",
    "\n",
    "stream = read('/home/tu/data/noise/noise_Number_001_Stream.mseed')\n",
    "\n",
    "print(stream)\n",
    "print(stream[0].stats)"
   ]
  },
  {
   "cell_type": "code",
   "execution_count": 1,
   "id": "d82dcd76",
   "metadata": {},
   "outputs": [
    {
     "name": "stdout",
     "output_type": "stream",
     "text": [
      "导入 skyfield.iau 失败: No module named 'skyfield.iau'\n"
     ]
    }
   ],
   "source": [
    "try:\n",
    "    from skyfield.iau import iau2000_moon\n",
    "    print(\"skyfield.iau 可用，找到 iau2000_moon\")\n",
    "except ImportError as e:\n",
    "    print(f\"导入 skyfield.iau 失败: {e}\")\n",
    "except AttributeError as e:\n",
    "    print(f\"skyfield.iau 存在，但 iau2000_moon 不可用: {e}\")"
   ]
  },
  {
   "cell_type": "code",
   "execution_count": 2,
   "id": "ea31b538",
   "metadata": {},
   "outputs": [
    {
     "name": "stdout",
     "output_type": "stream",
     "text": [
      "['VERSION', '__builtins__', '__cached__', '__doc__', '__file__', '__loader__', '__name__', '__package__', '__path__', '__spec__', '__version__']\n"
     ]
    }
   ],
   "source": [
    "import skyfield\n",
    "print(dir(skyfield))"
   ]
  },
  {
   "cell_type": "code",
   "execution_count": 3,
   "id": "6ebe37e6",
   "metadata": {},
   "outputs": [
    {
     "name": "stderr",
     "output_type": "stream",
     "text": [
      "[#################################] 100% de421.bsp\n",
      "[#################################] 100% moon_080317.tf\n",
      "[#################################] 100% pck00008.tpc\n",
      "[#################################] 100% moon_pa_de421_1900-2050.bpc\n"
     ]
    },
    {
     "name": "stdout",
     "output_type": "stream",
     "text": [
      "月球参考框架加载成功\n"
     ]
    }
   ],
   "source": [
    "from skyfield.api import load, PlanetaryConstants\n",
    "ts = load.timescale()\n",
    "t = ts.utc(1976, 1, 1)\n",
    "eph = load('de421.bsp')\n",
    "earth, moon = eph['earth'], eph['moon']\n",
    "pc = PlanetaryConstants()\n",
    "try:\n",
    "    pc.read_text(load('moon_080317.tf'))\n",
    "    pc.read_text(load('pck00008.tpc'))\n",
    "    pc.read_binary(load('moon_pa_de421_1900-2050.bpc'))\n",
    "    frame = pc.build_frame_named('MOON_ME_DE421')\n",
    "    print(\"月球参考框架加载成功\")\n",
    "except Exception as e:\n",
    "    print(f\"加载月球参考框架失败: {e}\")"
   ]
  },
  {
   "cell_type": "code",
   "execution_count": 4,
   "id": "87e5378a",
   "metadata": {},
   "outputs": [
    {
     "ename": "ModuleNotFoundError",
     "evalue": "No module named 'skyfield.iau'",
     "output_type": "error",
     "traceback": [
      "\u001b[0;31m---------------------------------------------------------------------------\u001b[0m",
      "\u001b[0;31mModuleNotFoundError\u001b[0m                       Traceback (most recent call last)",
      "Cell \u001b[0;32mIn[4], line 1\u001b[0m\n\u001b[0;32m----> 1\u001b[0m \u001b[38;5;28;01mfrom\u001b[39;00m\u001b[38;5;250m \u001b[39m\u001b[38;5;21;01mskyfield\u001b[39;00m\u001b[38;5;21;01m.\u001b[39;00m\u001b[38;5;21;01miau\u001b[39;00m\u001b[38;5;250m \u001b[39m\u001b[38;5;28;01mimport\u001b[39;00m iau2000_moon\n\u001b[1;32m      2\u001b[0m rotation_matrix \u001b[38;5;241m=\u001b[39m iau2000_moon(t)\n",
      "\u001b[0;31mModuleNotFoundError\u001b[0m: No module named 'skyfield.iau'"
     ]
    }
   ],
   "source": [
    "from skyfield.iau import iau2000_moon\n",
    "rotation_matrix = iau2000_moon(t)"
   ]
  },
  {
   "cell_type": "code",
   "execution_count": 10,
   "id": "7ead6afb",
   "metadata": {},
   "outputs": [
    {
     "name": "stdout",
     "output_type": "stream",
     "text": [
      "1976年第315天是11月1号\n"
     ]
    }
   ],
   "source": [
    "def day_of_year_to_date(year, day_of_year):\n",
    "    import datetime\n",
    "    date = datetime.datetime(year, 1, 1) + datetime.timedelta(days=day_of_year - 1)\n",
    "    return date.month, date.day\n",
    "\n",
    "# Example: 1976, 315th day\n",
    "month, day = day_of_year_to_date(1976, 306)\n",
    "print(f\"1976年第315天是{month}月{day}号\")"
   ]
  }
 ],
 "metadata": {
  "kernelspec": {
   "display_name": "obspy",
   "language": "python",
   "name": "python3"
  },
  "language_info": {
   "codemirror_mode": {
    "name": "ipython",
    "version": 3
   },
   "file_extension": ".py",
   "mimetype": "text/x-python",
   "name": "python",
   "nbconvert_exporter": "python",
   "pygments_lexer": "ipython3",
   "version": "3.10.18"
  }
 },
 "nbformat": 4,
 "nbformat_minor": 5
}
